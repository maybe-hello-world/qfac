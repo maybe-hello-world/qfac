{
 "cells": [
  {
   "cell_type": "code",
   "execution_count": 16,
   "metadata": {},
   "outputs": [],
   "source": [
    "import pandas as pd\n",
    "import pickle\n",
    "import os\n",
    "import matplotlib.pyplot as plt"
   ]
  },
  {
   "cell_type": "code",
   "execution_count": 2,
   "metadata": {},
   "outputs": [],
   "source": [
    "RESULT_FOLDER = [\"results1\", \"results2\"]"
   ]
  },
  {
   "cell_type": "code",
   "execution_count": 4,
   "metadata": {},
   "outputs": [],
   "source": [
    "all_res = []\n",
    "for folder in RESULT_FOLDER:\n",
    "    for file in os.listdir(folder):\n",
    "        with open(folder + \"/\" + file, \"rb\") as f:\n",
    "            all_res.append(pickle.load(f))"
   ]
  },
  {
   "cell_type": "code",
   "execution_count": 8,
   "metadata": {},
   "outputs": [],
   "source": [
    "# parse 2 level lists\n",
    "all_res2 = [j for i in all_res for j in i]"
   ]
  },
  {
   "cell_type": "code",
   "execution_count": 9,
   "metadata": {},
   "outputs": [
    {
     "data": {
      "text/plain": [
       "162"
      ]
     },
     "execution_count": 9,
     "metadata": {},
     "output_type": "execute_result"
    }
   ],
   "source": [
    "len(all_res2)"
   ]
  },
  {
   "cell_type": "code",
   "execution_count": 10,
   "metadata": {},
   "outputs": [
    {
     "name": "stdout",
     "output_type": "stream",
     "text": [
      "True\n"
     ]
    }
   ],
   "source": [
    "# sanity check\n",
    "overall_count = sum(len(x) for x in all_res)\n",
    "print(overall_count == len(all_res2)) "
   ]
  },
  {
   "cell_type": "code",
   "execution_count": 12,
   "metadata": {},
   "outputs": [],
   "source": [
    "a = pd.DataFrame(all_res2)"
   ]
  },
  {
   "cell_type": "code",
   "execution_count": 14,
   "metadata": {},
   "outputs": [
    {
     "data": {
      "text/html": [
       "<div>\n",
       "<style scoped>\n",
       "    .dataframe tbody tr th:only-of-type {\n",
       "        vertical-align: middle;\n",
       "    }\n",
       "\n",
       "    .dataframe tbody tr th {\n",
       "        vertical-align: top;\n",
       "    }\n",
       "\n",
       "    .dataframe thead th {\n",
       "        text-align: right;\n",
       "    }\n",
       "</style>\n",
       "<table border=\"1\" class=\"dataframe\">\n",
       "  <thead>\n",
       "    <tr style=\"text-align: right;\">\n",
       "      <th></th>\n",
       "      <th>0</th>\n",
       "      <th>1</th>\n",
       "    </tr>\n",
       "  </thead>\n",
       "  <tbody>\n",
       "    <tr>\n",
       "      <th>0</th>\n",
       "      <td>(kfac, CartPole-v1, {'OVERALL_STEPS': 50000, '...</td>\n",
       "      <td>(11.0, 102.0, 23.0, 19.0, 24.0, 12.0, 20.0, 11...</td>\n",
       "    </tr>\n",
       "    <tr>\n",
       "      <th>1</th>\n",
       "      <td>(kfac, CartPole-v1, {'OVERALL_STEPS': 50000, '...</td>\n",
       "      <td>(16.0, 49.0, 17.0, 25.0, 19.0, 34.0, 25.0, 13....</td>\n",
       "    </tr>\n",
       "    <tr>\n",
       "      <th>2</th>\n",
       "      <td>(kfac, CartPole-v1, {'OVERALL_STEPS': 50000, '...</td>\n",
       "      <td>(19.0, 44.0, 42.0, 30.0, 28.0, 17.0, 22.0, 11....</td>\n",
       "    </tr>\n",
       "    <tr>\n",
       "      <th>3</th>\n",
       "      <td>(kfac, CartPole-v1, {'OVERALL_STEPS': 50000, '...</td>\n",
       "      <td>(16.0, 15.0, 20.0, 13.0, 17.0, 16.0, 34.0, 14....</td>\n",
       "    </tr>\n",
       "    <tr>\n",
       "      <th>4</th>\n",
       "      <td>(kfac, CartPole-v1, {'OVERALL_STEPS': 50000, '...</td>\n",
       "      <td>(9.0, 18.0, 17.0, 16.0, 28.0, 19.0, 23.0, 17.0...</td>\n",
       "    </tr>\n",
       "  </tbody>\n",
       "</table>\n",
       "</div>"
      ],
      "text/plain": [
       "                                                   0  \\\n",
       "0  (kfac, CartPole-v1, {'OVERALL_STEPS': 50000, '...   \n",
       "1  (kfac, CartPole-v1, {'OVERALL_STEPS': 50000, '...   \n",
       "2  (kfac, CartPole-v1, {'OVERALL_STEPS': 50000, '...   \n",
       "3  (kfac, CartPole-v1, {'OVERALL_STEPS': 50000, '...   \n",
       "4  (kfac, CartPole-v1, {'OVERALL_STEPS': 50000, '...   \n",
       "\n",
       "                                                   1  \n",
       "0  (11.0, 102.0, 23.0, 19.0, 24.0, 12.0, 20.0, 11...  \n",
       "1  (16.0, 49.0, 17.0, 25.0, 19.0, 34.0, 25.0, 13....  \n",
       "2  (19.0, 44.0, 42.0, 30.0, 28.0, 17.0, 22.0, 11....  \n",
       "3  (16.0, 15.0, 20.0, 13.0, 17.0, 16.0, 34.0, 14....  \n",
       "4  (9.0, 18.0, 17.0, 16.0, 28.0, 19.0, 23.0, 17.0...  "
      ]
     },
     "execution_count": 14,
     "metadata": {},
     "output_type": "execute_result"
    }
   ],
   "source": [
    "a.head()"
   ]
  },
  {
   "cell_type": "code",
   "execution_count": 17,
   "metadata": {},
   "outputs": [
    {
     "data": {
      "image/png": "[encoded data removed]",
      "text/plain": [
       "<Figure size 432x288 with 1 Axes>"
      ]
     },
     "metadata": {
      "needs_background": "light"
     },
     "output_type": "display_data"
    }
   ],
   "source": [
    "fig = plt.figure()\n",
    "for a in all_res2:\n",
    "    plt.plot(a[1])"
   ]
  },
  {
   "cell_type": "code",
   "execution_count": null,
   "metadata": {},
   "outputs": [],
   "source": []
  }
 ],
 "metadata": {
  "kernelspec": {
   "display_name": "Python 3",
   "language": "python",
   "name": "python3"
  },
  "language_info": {
   "codemirror_mode": {
    "name": "ipython",
    "version": 3
   },
   "file_extension": ".py",
   "mimetype": "text/x-python",
   "name": "python",
   "nbconvert_exporter": "python",
   "pygments_lexer": "ipython3",
   "version": "3.6.8"
  }
 },
 "nbformat": 4,
 "nbformat_minor": 1
}
